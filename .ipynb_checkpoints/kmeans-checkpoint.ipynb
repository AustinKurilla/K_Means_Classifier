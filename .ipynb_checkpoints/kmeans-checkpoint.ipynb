{
 "cells": [
  {
   "cell_type": "code",
   "execution_count": 801,
   "metadata": {},
   "outputs": [],
   "source": [
    "#K means clutering algorithm from scratch - Austin Kurilla\n",
    "\n",
    "import pandas as pd\n",
    "import matplotlib\n",
    "import numpy as np\n",
    "import math\n",
    "import matplotlib.pyplot as plt\n",
    "\n",
    "\n",
    "#filename = input (\"Enter filename: \")\n",
    "filename = \"kMeansDataset/twoEllipses.txt\""
   ]
  },
  {
   "cell_type": "code",
   "execution_count": 802,
   "metadata": {},
   "outputs": [],
   "source": [
    "dataset = []\n",
    "\n",
    "with open(filename, 'r') as f:\n",
    "        for line in f.readlines():\n",
    "            dataset.append(line.split(' '))\n",
    "dataset = np.array(dataset).astype(float)\n",
    "#print(dataset)"
   ]
  },
  {
   "cell_type": "code",
   "execution_count": 803,
   "metadata": {},
   "outputs": [
    {
     "name": "stdout",
     "output_type": "stream",
     "text": [
      "{0: array([3.57916191, 4.05507429]), 1: array([6.32896699, 5.32154568])}\n"
     ]
    }
   ],
   "source": [
    "#algoritm data\n",
    "kpoints = 2\n",
    "threshold = 0.001\n",
    "max_iterations = 20\n",
    "centroids = {}\n",
    "#randomly choose centroids\n",
    "x = np.random.choice( dataset.shape[0],kpoints ,replace=False)\n",
    "for i in range(kpoints):\n",
    "    centroids[i] = dataset[x[i]]\n",
    "#print(centroids)"
   ]
  },
  {
   "cell_type": "code",
   "execution_count": 804,
   "metadata": {},
   "outputs": [],
   "source": [
    "#main loop\n",
    "iterationcounter = 0\n",
    "for i in range (max_iterations):\n",
    "    iterationcounter = iterationcounter + 1\n",
    "    metThreshold = False\n",
    "    classes = {}\n",
    "    distances = np.empty((dataset.shape[0], kpoints), float)\n",
    "    for i in range (kpoints):\n",
    "        classes[i] = []\n",
    "    #find distances between each point and centroid, find nearest centroid and assign to that class\n",
    "    for x in range (dataset.shape[0]):\n",
    "            for y in range (kpoints):\n",
    "                   distances[x][y] = math.dist(dataset[x],centroids[y])\n",
    "            minimum = np.min(distances[x])\n",
    "            cluster = np.where(distances[x] == minimum)\n",
    "            classes[cluster[0][0]].append(dataset[x])\n",
    "    #save previous centroids\n",
    "    previouscentroids = dict(centroids)\n",
    "    \n",
    "    #find new centroids by taking the average of each class\n",
    "    for y in range (kpoints):\n",
    "        centroids[y] = np.average(classes[y] ,axis = 0).astype(float)\n",
    "        \n",
    "    #find distance between previous centroids and new centroids\n",
    "    counter = 0\n",
    "    for x in centroids:\n",
    "        prev = previouscentroids[x]\n",
    "        curr = centroids[x]\n",
    "        counter = counter + (math.dist(curr,prev)** 2)\n",
    "    if counter < threshold:\n",
    "        metThreshold = True\n",
    "    \n",
    "    if metThreshold:\n",
    "        break"
   ]
  },
  {
   "cell_type": "code",
   "execution_count": 805,
   "metadata": {},
   "outputs": [],
   "source": [
    "#this finds what class each row in the dataset belongs too\n",
    "clustersizes = np.zeros(kpoints, int)\n",
    "printclasses = np.empty((dataset.shape[0]), int)\n",
    "for x in range (dataset.shape[0]):\n",
    "    for z in range(kpoints):\n",
    "        for y in classes[z]:\n",
    "            truth = (dataset[x] == y)\n",
    "            if dataset.T.shape[0] == 4:\n",
    "                if(truth[0] == True and truth[1] == True and truth[2] == True and truth[3] == True):\n",
    "                    printclasses[x] = z\n",
    "                    clustersizes[z] = clustersizes[z] + 1\n",
    "            else:\n",
    "                if(truth[0] == True and truth[1] == True):\n",
    "                    printclasses[x] = z\n",
    "                    clustersizes[z] = clustersizes[z] + 1"
   ]
  },
  {
   "cell_type": "code",
   "execution_count": 806,
   "metadata": {},
   "outputs": [
    {
     "name": "stdout",
     "output_type": "stream",
     "text": [
      "Final Cluster Assignments:  [1 0 1 1 1 1 0 0 0 0 0 0 0 0 1 1 1 0 1 1 0 0 1 0 0 0 0 1 0 1 0 0 0 1 0 0 1\n",
      " 1 1 1 1 1 1 1 1 0 0 0 1 0 0 1 0 0 1 1 0 1 0 0 0 1 1 0 1 0 0 1 0 0 1 1 0 1\n",
      " 1 1 0 1 1 1 1 0 0 1 1 0 1 1 0 1 0 1 0 0 1 1 1 1 1 1 0 1 1 1 1 0 1 0 1 1 1\n",
      " 0 1 0 1 0 0 1 0 0 0 0 0 0 0 0 1 1 0 0 0 0 0 1 1 1 0 1 1 1 0 1 1 0 0 1 0 1\n",
      " 0 1 1 1 1 0 1 1 0 1 1 0 1 1 1 1 0 1 0 0 0 0 0 1 1 1 0 0 0 1 1 0 0 0 0 0 0\n",
      " 0 1 0 1 1 0 1 1 0 0 0 1 1 0 0 0 0 0 1 1 1 1 0 1 0 1 0 0 1 1 0 1 1 1 0 1 1\n",
      " 1 0 0 1 0 1 0 0 0 0 0 1 1 1 0 1 1 0 0 1 0 0 0 1 1 1 1 1 0 0 0 0 0 0 0 1 0\n",
      " 1 0 0 0 1 1 0 0 1 0 0 0 1 1 0 0 0 0 0 0 0 1 0 0 0 1 1 0 0 1 1 1 0 0 1 0 0\n",
      " 0 1 0 1 0 1 1 1 0 1 0 1 1 0 1 1 0 0 1 0 0 1 1 1 0 1 1 1 1 1 1 1 0 0 0 0 0\n",
      " 0 1 1 0 1 0 0 1 0 0 0 0 1 1 1 1 1 1 0 0 1 1 1 0 0 1 1 0 0 0 0 0 0 0 1 1 0\n",
      " 1 0 1 0 1 0 0 0 1 0 1 1 0 0 0 1 0 1 0 0 0 1 0 1 0 0 1 1 1 0 0 0 0 0 1 1 0\n",
      " 1 0 1 0 0 0 0 1 0 0 0 0 0 0 0 0 0 1 1 1 1 0 1 0 0 0 1 0 1 1 1 1 1 0 0 0 1\n",
      " 0 0 1 1 0 0 0 0 0 1 0 0 1 0 0 1 0 1 0 0 0 0 1 0 1 0 1 0 0 0 0 0 0 0 1 1 1\n",
      " 0 1 1 0 0 0 0 0 1 0 1 1 1 1 0 0 0 1 1 1 0 0 0 1 0 1 0 1 1 0 0 1 0 0 0 0 1\n",
      " 1 1 0 1 0 1 1 1 1 1 0 0 1 0 0 0 1 1 1 0 1 1 1 1 0 1 0 1 1 1 0 0 0 0 1 0 0\n",
      " 1 1 1 0 0 0 0 1 1 0 1 1 0 1 1 0 1 1 1 0 1 0 0 0 0 1 1 0 1 0 1 0 1 0 0 0 0\n",
      " 1 1 0 1 0 1 1 0 0 1 0 1 1 1 0 1 1 1 0 1 1 1 1 0 1 0 0 1 1 0 1 0 1 1 0 1 0\n",
      " 0 1 0 1 0 0 1 0 0 0 0 0 0 0 0 0 0 0 0 1 0 0 1 0 1 1 1 1 0 0 1 1 0 0 1 0 0\n",
      " 1 0 0 0 1 0 1 0 0 0 0 0 0 1 1 1 0 0 1 1 0 0 1 0 1 0 1 1 0 0 0 0 1 0 0 0 0\n",
      " 0 0 1 0 1 1 0 0 1 0 0 0 1 0 1 0 0 0 1 0 1 1 0 1 1 0 1 0 0 1 0 1 1 1 0 0 1\n",
      " 0 0 1 0 0 0 0 0 0 1 0 0 0 1 1 1 0 1 0 1 1 0 1 1 1 1 0 1 0 0 0 0 1 0 0 0 1\n",
      " 0 0 1 1 0 0 0 1 0 1 0 1 0 0 0 0 1 1 1 1 1 1 0 0 0 0 1 1 1 0 0 1 1 1 0 0 0\n",
      " 1 0 0 1 0 1 0 1 0 1 0 0 1 0 1 0 0 1 1 1 1 0 1 0 1 1 1 0 1 1 1 0 1 0 1 0 0\n",
      " 1 0 0 0 1 1 0 0 0 1 0 0 0 0 0 1 1 0 1 0 1 1 0 0 1 1 0 0 0 0 0 0 0 1 1 1 0\n",
      " 1 1 0 1 0 1 0 0 1 0 1 1 1 0 0 1 0 1 1 1 1 0 1 0 1 0 0 1 0 0 0 1 1 1 1 1 1\n",
      " 0 1 1 1 1 0 0 0 0 0 1 0 1 0 1 1 1 1 1 1 0 0 0 1 0 1 0 0 0 1 1 1 1 0 1 0 0\n",
      " 1 1 0 1 0 0 1 0 0 0 1 1 1 1 1 1 1 0 0 0 0 0 1 1 1 1 0 0 0 1 1 0 1 0 1 0 1\n",
      " 0 1 0 1 0 0 1 0 1 1 1 1 0 1 1 1 1 1 1 0 1 1 1 1 0 1 0 1 0 0 1 1 1 0 0 0 0\n",
      " 1 0 1 1 0 1 1 0 0 0 0 1 1 1 1 0 1 0 1 0 0 1 0 1 1 1 0 0 0 0 1 0 0 1 1 0 1\n",
      " 1 1 1 0 1 1 1 1 0 1 0 0 0 1 0 0 1 1 0 0 0 1 0 1 0 1 1 1 0 1 1 1 0 0 1 0 1\n",
      " 0 0 0 1 0 1 1 1 0 1 1 1 1 0 0 1 0 1 1 1 0 1 0 0 0 0 0 1 0 0 0 0 0 1 1 1 1\n",
      " 1 1 1 1 1 1 1 1 0 1 0 1 1 0 1 0 0 1 0 0 1 1 0 0 1 1 1 0 1 0 1 0 0 1 0 0 0\n",
      " 1 0 1 0 1 0 1 1 1 1 0 0 1 1 0 1 1 1 1 0 0 0 1 1 1 0 0 1 1 0 0 1 1 0 0 0 0\n",
      " 1 0 1 1 1 1 1 1 1 0 1 1 1 0 0 0 1 0 0 1 0 0 1 0 1 0 1 1 1 1 0 0 1 1 1 1 1\n",
      " 0 0 0 1 0 1 1 1 0 0 1 0 1 1 1 0 0 0 0 0 1 0 0 0 0 1 0 1 1 1 0 1 1 0 1 1 1\n",
      " 1 0 1 0 0 0 0 0 0 1 1 0 0 1 0 0 0 0 1 1 0 0 0 0 0 0 1 0 1 1 1 1 1 1 0 0 1\n",
      " 0 0 1 1 1 1 1 1 0 0 0 1 0 0 0 1 1 0 0 1 1 1 1 1 0 1 0 0 0 1 1 0 0 0 0 0 0\n",
      " 1 1 1 1 0 0 1 0 1 0 1 1 1 0 0 1 1 0 1 1 1 0 0 0 0 0 0 0 1 0 1 1 1 1 1 0 1\n",
      " 1 1 0 0 0 1 1 1 1 1 1 1 0 1 1 1 1 0 0 1 0 0 1 0 1 0 0 0 0 0 1 1 1 1 1 0 1\n",
      " 0 1 0 1 0 1 1 1 1 1 0 0 0 1 0 0 0 0 0 1 1 1 0 0 0 0 1 0 0 0 0 1 0 1 0 1 0\n",
      " 1 1 1 1 0 1 0 0 1 1 1 1 0 0 1 0 1 1 0 0 0 0 0 0 0 1 0 0 1 1 1 1 0 1 0 0 0\n",
      " 0 0 1 1 1 1 1 1 1 1 0 1 1 1 0 1 1 1 1 1 1 0 0 1 1 1 0 0 1 0 0 1 1 0 0 0 0\n",
      " 0 1 1 0 1 1 1 1 0 0 0 1 0 0 0 0 1 0 0 0 0 1 1 0 1 0 1 0 1 1 0 0 0 0 1 0 0\n",
      " 1 0 1 1 1 1 1 0 1 0 1 0 1 1 1 1 0 0 1 1 1 0 0 0 1 0 0 0 1 0 1 0 0 0 0 0 0\n",
      " 1 0 0 0 1 1 1 0 0 0 1 0 1 0 0 0 0 0 0 0 1 0 1 0 0 0 1 1 1 0 0 1 0 0 0 0 0\n",
      " 1 1 1 0 1 1 0 0 0 1 0 0 1 1 1 1 0 0 0 0 1 1 1 0 0 0 1 0 0 0 0 0 1 1 1 1 0\n",
      " 0 1 1 1 0 1 0 1 1 0 0 1 0 0 1 0 1 0 0 1 1 1 1 1 0 0 1 0 1 0 0 0 0 1 0 1 0\n",
      " 1 1 1 0 0 0 0 1 1 0 1 0 1 1 0 0 1 0 1 0 0 1 0 0 1 0 0 0 1 1 1 1 0 0 0 0 0\n",
      " 1 1 0 1 1 1 1 1 0 1 1 0 1 0 1 1 0 0 1 0 0 0 0 1 0 1 1 0 1 1 0 1 0 0 1 1 0\n",
      " 1 1 0 1 1 0 1 0 1 1 1 0 1 1 1 0 0 0 0 1 1 1 1 0 1 1 1 1 1 1 0 0 1 1 0 0 0\n",
      " 1 1 1 1 1 0 1 0 0 0 1 0 0 0 1 0 1 1 0 1 1 1 0 1 1 1 1 1 1 1 0 0 1 0 0 1 1\n",
      " 0 1 1 0 1 0 1 0 1 1 1 1 0 0 0 1 1 1 0 0 1 0 1 1 0 1 1 0 1 0 1 0 1 1 1 1 0\n",
      " 0 1 0 0 1 0 0 0 0 0 1 1 1 0 0 0 0 1 0 1 1 0 1 0 1 0 0 1 0 0 1 1 1 0 1 1 1\n",
      " 0 0 0 0 0 1 1 1 0 0 1 1 0 0 1 1 0 0 1 0 0 1 1 0 1 0 1 0 0 0 0 1 1 0 0 1 0\n",
      " 0 1]\n",
      "Final Cluster Means:  {0: array([2.72788855, 4.55045451]), 1: array([5.26041299, 4.63761893])}\n",
      "Final Cluser Sizes  [1018  982]\n",
      "Final Number of iterations:  7\n",
      "Final distance between new and old means:  0.0003699738805930348\n"
     ]
    }
   ],
   "source": [
    "#printing output\n",
    "np.set_printoptions(threshold=np.inf)\n",
    "print('Final Cluster Assignments: ', printclasses)\n",
    "\n",
    "print('Final Cluster Means: ', centroids)\n",
    "\n",
    "print('Final Cluser Sizes ', clustersizes)\n",
    "print('Final Number of iterations: ', iterationcounter)\n",
    "print('Final distance between new and old means: ', counter)"
   ]
  },
  {
   "cell_type": "code",
   "execution_count": 807,
   "metadata": {},
   "outputs": [
    {
     "data": {
      "image/png": "[encoded data removed]",
      "text/plain": [
       "<Figure size 432x288 with 1 Axes>"
      ]
     },
     "metadata": {
      "needs_background": "light"
     },
     "output_type": "display_data"
    }
   ],
   "source": [
    "for x in classes[0]:\n",
    "    plt.scatter(x[0],x[1], color='pink')\n",
    "for y in classes[1]:\n",
    "    plt.scatter(y[0],y[1], color='blue')\n",
    "plt.show()"
   ]
  },
  {
   "cell_type": "code",
   "execution_count": null,
   "metadata": {},
   "outputs": [],
   "source": []
  }
 ],
 "metadata": {
  "kernelspec": {
   "display_name": "Python 3",
   "language": "python",
   "name": "python3"
  },
  "language_info": {
   "codemirror_mode": {
    "name": "ipython",
    "version": 3
   },
   "file_extension": ".py",
   "mimetype": "text/x-python",
   "name": "python",
   "nbconvert_exporter": "python",
   "pygments_lexer": "ipython3",
   "version": "3.8.5"
  }
 },
 "nbformat": 4,
 "nbformat_minor": 4
}
